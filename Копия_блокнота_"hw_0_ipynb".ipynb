{
  "nbformat": 4,
  "nbformat_minor": 0,
  "metadata": {
    "kernelspec": {
      "display_name": "Python 3",
      "language": "python",
      "name": "python3"
    },
    "language_info": {
      "codemirror_mode": {
        "name": "ipython",
        "version": 3
      },
      "file_extension": ".py",
      "mimetype": "text/x-python",
      "name": "python",
      "nbconvert_exporter": "python",
      "pygments_lexer": "ipython3",
      "version": "3.6.6"
    },
    "colab": {
      "name": "Копия блокнота \"hw_0.ipynb\"",
      "provenance": [],
      "include_colab_link": true
    }
  },
  "cells": [
    {
      "cell_type": "markdown",
      "metadata": {
        "id": "view-in-github",
        "colab_type": "text"
      },
      "source": [
        "<a href=\"https://colab.research.google.com/github/arinaLozhkina/ml_mipt_dafe_major/blob/master/%D0%9A%D0%BE%D0%BF%D0%B8%D1%8F_%D0%B1%D0%BB%D0%BE%D0%BA%D0%BD%D0%BE%D1%82%D0%B0_%22hw_0_ipynb%22.ipynb\" target=\"_parent\"><img src=\"https://colab.research.google.com/assets/colab-badge.svg\" alt=\"Open In Colab\"/></a>"
      ]
    },
    {
      "cell_type": "markdown",
      "metadata": {
        "id": "pA3kv-qv8VZD"
      },
      "source": [
        "# Домашнее задание № 0\n"
      ]
    },
    {
      "cell_type": "code",
      "metadata": {
        "id": "tsZ0BYr48VZE"
      },
      "source": [
        "import numpy as np\n",
        "import pandas as pd\n",
        "from matplotlib import pyplot as plt\n",
        "from collections import Counter \n",
        "%matplotlib inline"
      ],
      "execution_count": null,
      "outputs": []
    },
    {
      "cell_type": "markdown",
      "metadata": {
        "id": "xqTRySxB8VZJ"
      },
      "source": [
        "### Самостоятельное написание дерева решений\n",
        "Источник: [mlcourse.ai](https://mlcourse.ai) от [Юрия Кашницкого](https://yorko.github.io) и [OpenDataScience](https://ods.ai)"
      ]
    },
    {
      "cell_type": "markdown",
      "metadata": {
        "id": "2LCRsrdD8VZK"
      },
      "source": [
        "Рассмотрим следующую одномерную задачу восстановления регрессии. Неформально, нужно построить функцию $a(x)$, приближающую искомую зависимость $y = f(x)$ в терминах среднеквадратичной ошибки: $min \\sum_i {(a(x_i) - f(x_i))}^2$. "
      ]
    },
    {
      "cell_type": "markdown",
      "metadata": {
        "id": "LjlGqtIH8VZN"
      },
      "source": [
        "Проделаем несколько шагов в построении дерева решений. Исходя из соображений симметрии, выберем пороги для разбиения равными соответственно 0, 1.5 и -1.5. Напомним, что в случае задачи восстановления регрессии листовая вершина выдает среднее значение ответа по всем объектам обучающей выборки, попавшим в эту вершину.\n",
        "\n",
        "Итак, начнём. Дерево глубины 0 состоит из одного корня, который содержит всю обучающую выборку. Как будут выглядеть предсказания данного дерева для $x \\in [-2, 2]$? Постройте соответствующий график."
      ]
    },
    {
      "cell_type": "code",
      "metadata": {
        "id": "CfUzm6_78VZO",
        "outputId": "d7c37d3b-4e5e-4935-c32a-8bf8454594b4",
        "colab": {
          "base_uri": "https://localhost:8080/",
          "height": 296
        }
      },
      "source": [
        "# Ваш Код здесь\n",
        "X = np.linspace(-2, 2, 7)\n",
        "y = X ** 3\n",
        "\n",
        "plt.scatter(X, y)\n",
        "plt.xlabel(r'$x$')\n",
        "plt.plot(np.linspace(-2,2,50), np.linspace(np.mean(y),np.mean(y),50))\n",
        "plt.ylabel(r'$y$')"
      ],
      "execution_count": null,
      "outputs": [
        {
          "output_type": "execute_result",
          "data": {
            "text/plain": [
              "Text(0, 0.5, '$y$')"
            ]
          },
          "metadata": {
            "tags": []
          },
          "execution_count": 3
        },
        {
          "output_type": "display_data",
          "data": {
            "image/png": "[encoded data removed]",
            "text/plain": [
              "<Figure size 432x288 with 1 Axes>"
            ]
          },
          "metadata": {
            "tags": [],
            "needs_background": "light"
          }
        }
      ]
    },
    {
      "cell_type": "markdown",
      "metadata": {
        "id": "KaLoP_XD8VZR"
      },
      "source": [
        "Произведем первое разбиение выборки по предикату $[x < 0]$. Получим дерево глубины 1 с двумя листьями. Постройте аналогичный график предсказаний для этого дерева."
      ]
    },
    {
      "cell_type": "code",
      "metadata": {
        "id": "-ovlJDHyQeVv"
      },
      "source": [
        "def regression_tree(x, y, X, num):\n",
        "    l_less = len(y[x < num])\n",
        "    l_more = len(y[x >= num])\n",
        "    # Другой критерий: https://habr.com/ru/company/ods/blog/322534/#kak-stroitsya-derevo-resheniy\n",
        "    res_less = [sum((y[x < num] - (sum(y[x < num]) / l_less)) ** 2 ) / l_less] * (X < num) \n",
        "    res_more =  [sum((y[x >= num] - (sum(y[x >= num]) / l_more)) ** 2 ) / l_more] * (X >= num)\n",
        "    return res_less + res_more"
      ],
      "execution_count": null,
      "outputs": []
    },
    {
      "cell_type": "code",
      "metadata": {
        "id": "AwkRInO08VZR",
        "outputId": "ddbc0195-5328-4328-c714-684587534725",
        "colab": {
          "base_uri": "https://localhost:8080/",
          "height": 296
        }
      },
      "source": [
        "# Ваш Код здесь\n",
        "x = np.linspace(-2, 2, 7)\n",
        "X = np.linspace(-2, 2, 20000)\n",
        "y = x ** 3\n",
        "\n",
        "res_y = regression_tree(x, y, X, 0)\n",
        "\n",
        "plt.plot(X, res_y)\n",
        "plt.scatter(x, y)\n",
        "\n",
        "plt.xlabel(r'$x$')\n",
        "plt.ylabel(r'$y$')"
      ],
      "execution_count": null,
      "outputs": [
        {
          "output_type": "execute_result",
          "data": {
            "text/plain": [
              "Text(0, 0.5, '$y$')"
            ]
          },
          "metadata": {
            "tags": []
          },
          "execution_count": 10
        },
        {
          "output_type": "display_data",
          "data": {
            "image/png": "[encoded data removed]",
            "text/plain": [
              "<Figure size 432x288 with 1 Axes>"
            ]
          },
          "metadata": {
            "tags": [],
            "needs_background": "light"
          }
        }
      ]
    },
    {
      "cell_type": "markdown",
      "metadata": {
        "id": "XrBAT0YQ8VZU"
      },
      "source": [
        "В алгоритме построения дерева решений признак и значение порога, по которым происходит разбиение выборки, выбираются исходя из некоторого критерия. Для регрессии обычно используется дисперсионный критерий: $$Q(X, j, t) = D(X) - \\dfrac{|X_l|}{|X|} D(X_l) - \\dfrac{|X_r|}{|X|} D(X_r),$$ где $X$ – выборка, находящаяся в текущей вершине, $X_l$ и $X_r$ – разбиение выборки $X$ на две части по предикату $[xj < t]$ (то есть по $j$-ому признаку и порогу $t$), а $D(X)$ – дисперсия ответов на выборке $X$: $$D(X) = \\dfrac{1}{|X|} \\sum{x_j \\in X}(yj – \\dfrac{1}{|X|}\\sum{x_i \\in X}y_i)^2,$$ где $y_i = y(x_i)$ – ответ на объекте $x_i$. При каждом разбиении вершины выбираются признак $j$ и значение порога $t$, максимизирующие значение функционала $Q(X, j, t)$.\n",
        "\n",
        "В нашем случае признак всего один, поэтому $Q$ зависит только от значения порога $t$ (и ответов выборки в данной вершине).\n",
        "\n",
        "Постройте график функции $Q(X, t)$ в корне в зависимости от значения порога $t$ на отрезке $[-1.9, 1.9]$."
      ]
    },
    {
      "cell_type": "code",
      "metadata": {
        "id": "qgFjPVz_8VZU"
      },
      "source": [
        " # мера прироста информации \n",
        "\n",
        "# def ig(ind, data): \n",
        "#   # input: ind - индекс разбиения\n",
        "#   s_0 = enthropy(probabilities(data))\n",
        "#   s_1 = enthropy(probabilities(data[:ind + 1]))\n",
        "#   s_2 = enthropy(probabilities(data[ind + 1:]))\n",
        "#   res = s_0 - s_1 * (ind + 1) / len(data) - s_2 * (len(data) - ind - 1) / len(data)\n",
        "#   return res, s_0, s_1, s_2"
      ],
      "execution_count": null,
      "outputs": []
    },
    {
      "cell_type": "code",
      "metadata": {
        "id": "w0SHj8vNiP0E"
      },
      "source": [
        "def Q(x, y, t):  # Дисперсионный критерий \n",
        "    return sum((y - sum(y)/len(y))**2)/len(y)-len(y[x < t])/len(y)* sum(((y[x < t]) - sum((y[x < t]))/len((y[x < t])))**2)/len((y[x < t])) - len(y[x >= t])/len(y)*sum((y[x >= t]-sum(y[x >= t])/len(y[x >= t]))**2)/len(y[x >= t]) "
      ],
      "execution_count": null,
      "outputs": []
    },
    {
      "cell_type": "code",
      "metadata": {
        "id": "-iZmFdfSkLNr",
        "outputId": "1be45027-e034-4303-ad5b-3bdec641745c",
        "colab": {
          "base_uri": "https://localhost:8080/",
          "height": 300
        }
      },
      "source": [
        "x = np.linspace(-2, 2, 7)\n",
        "y = x ** 3\n",
        "\n",
        "all_t = np.linspace(-1.9, 1.9, 20000)\n",
        "all_Q = [Q(x, y, t) for t in all_t]\n",
        "\n",
        "plt.plot(all_t, all_Q)    \n",
        "plt.xlabel(r'$t$')\n",
        "plt.ylabel(r'$Q$')\n",
        "\n",
        "param = all_t[np.argmax(all_Q)]\n",
        "print(param)"
      ],
      "execution_count": null,
      "outputs": [
        {
          "output_type": "stream",
          "text": [
            "-1.3332016600830041\n"
          ],
          "name": "stdout"
        },
        {
          "output_type": "display_data",
          "data": {
            "image/png": "[encoded data removed]",
            "text/plain": [
              "<Figure size 432x288 with 1 Axes>"
            ]
          },
          "metadata": {
            "tags": [],
            "needs_background": "light"
          }
        }
      ]
    },
    {
      "cell_type": "markdown",
      "metadata": {
        "id": "Z0DnupQvu2R1"
      },
      "source": [
        "А теперь на основе значений полученной функции постройте дерево глубины 1."
      ]
    },
    {
      "cell_type": "code",
      "metadata": {
        "id": "JXAmMKQ8u-ri",
        "outputId": "f8eea89b-f19f-4271-84f7-76f28a59a32c",
        "colab": {
          "base_uri": "https://localhost:8080/",
          "height": 296
        }
      },
      "source": [
        "# Ваш Код здесь\n",
        "x = np.linspace(-2, 2, 7)\n",
        "X = np.linspace(-2, 2, 2000)\n",
        "y = x ** 3\n",
        "\n",
        "res_y = regression_tree(x, y, X, param)\n",
        "\n",
        "plt.plot(X, res_y)\n",
        "plt.scatter(x, y)\n",
        "\n",
        "plt.xlabel(r'$x$')\n",
        "plt.ylabel(r'$y$')"
      ],
      "execution_count": null,
      "outputs": [
        {
          "output_type": "execute_result",
          "data": {
            "text/plain": [
              "Text(0, 0.5, '$y$')"
            ]
          },
          "metadata": {
            "tags": []
          },
          "execution_count": 61
        },
        {
          "output_type": "display_data",
          "data": {
            "image/png": "[encoded data removed]",
            "text/plain": [
              "<Figure size 432x288 with 1 Axes>"
            ]
          },
          "metadata": {
            "tags": [],
            "needs_background": "light"
          }
        }
      ]
    }
  ]
}